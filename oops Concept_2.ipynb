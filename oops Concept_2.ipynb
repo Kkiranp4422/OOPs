{
 "cells": [
  {
   "cell_type": "markdown",
   "id": "966d13b5",
   "metadata": {},
   "source": [
    "\n",
    "Problem: OOPs\n",
    "1.\tGo step by step:\n",
    "A.\tCreate a class named (Car)\n",
    "B.\tCall constructor\n",
    "C.\tCreate 3 attributes under that (name, price, colour)\n",
    "D.\tCreate 3 functions - 1. sound 2. speed 3. display (to display 1 and 2 fuctions)\n",
    "E.\tCreate a child class named (Thar) and inherite Car\n",
    "F.\tCreate two objects under that child class and access the functions for them.\n",
    "\n",
    "\n"
   ]
  },
  {
   "cell_type": "code",
   "execution_count": null,
   "id": "ad47de7b",
   "metadata": {},
   "outputs": [],
   "source": [
    "class Car:\n",
    " def __init__(self,name,price,colour):\n",
    "    self.name=name \n",
    "    self.price=price\n",
    "    self.colour=colour\n",
    "    def sound(self) :\n",
    "        print(\"slow sound\")\n",
    "        def speed(self) :\n",
    "            print(\"slow speed\")\n",
    "            def display(self) : \n",
    "                print(\"slow sound\")\n",
    "                \n",
    "                obj=Car(\"thar\",1000000,\"Black\")\n",
    "    obj.sound()\n",
    "    obj.speed()\n",
    "    obj.display()"
   ]
  },
  {
   "cell_type": "markdown",
   "id": "929a3128",
   "metadata": {},
   "source": [
    "Problem: Try and Except\n",
    "Create an Except where we can catch all the “zero division error” (you can customize your print statements ). \n",
    "\n",
    "\n"
   ]
  },
  {
   "cell_type": "code",
   "execution_count": 13,
   "id": "6e7ec304",
   "metadata": {},
   "outputs": [
    {
     "name": "stdout",
     "output_type": "stream",
     "text": [
      "this is zerodivision error becouse output is 0\n"
     ]
    }
   ],
   "source": [
    "x = 5\n",
    "y = 0\n",
    "try:\n",
    "  z = x/y\n",
    "except ZeroDivisionError:\n",
    "  z=\"this is zerodivision error becouse output is 0\"\n",
    "print(z) "
   ]
  },
  {
   "cell_type": "code",
   "execution_count": null,
   "id": "c957ae5e",
   "metadata": {},
   "outputs": [],
   "source": []
  }
 ],
 "metadata": {
  "kernelspec": {
   "display_name": "Python 3 (ipykernel)",
   "language": "python",
   "name": "python3"
  },
  "language_info": {
   "codemirror_mode": {
    "name": "ipython",
    "version": 3
   },
   "file_extension": ".py",
   "mimetype": "text/x-python",
   "name": "python",
   "nbconvert_exporter": "python",
   "pygments_lexer": "ipython3",
   "version": "3.10.9"
  }
 },
 "nbformat": 4,
 "nbformat_minor": 5
}
